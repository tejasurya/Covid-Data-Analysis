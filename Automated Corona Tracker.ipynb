{
 "cells": [
  {
   "cell_type": "code",
   "execution_count": 2,
   "metadata": {},
   "outputs": [],
   "source": [
    "import os\n",
    "import numpy as np\n",
    "import matplotlib.pyplot as plot\n",
    "from tabulate import tabulate\n",
    "import requests\n",
    "from bs4 import BeautifulSoup"
   ]
  },
  {
   "cell_type": "code",
   "execution_count": 154,
   "metadata": {},
   "outputs": [
    {
     "name": "stdout",
     "output_type": "stream",
     "text": [
      "States                                      Confirmed*    Active*    Cured*    Death*\n",
      "----------------------------------------  ------------  ---------  --------  --------\n",
      "Andaman and Nicobar Islands                         15          4        11         0\n",
      "Andhra Pradesh                                     722        610        92        20\n",
      "Arunachal Pradesh                                    1          1         0         0\n",
      "Assam                                               35         17        17         1\n",
      "Bihar                                               96         52        42         2\n",
      "Chandigarh                                          26         13        13         0\n",
      "Chhattisgarh                                        36         11        25         0\n",
      "Delhi                                             2003       1668       290        45\n",
      "Goa                                                  7          0         7         0\n",
      "Gujarat                                           1851       1678       106        67\n",
      "Haryana                                            233        143        87         3\n",
      "Himachal Pradesh                                    39         22        16         1\n",
      "Jammu and Kashmir                                  350        289        56         5\n",
      "Jharkhand                                           42         40         0         2\n",
      "Karnataka                                          395        268       111        16\n",
      "Kerala                                             402        129       270         3\n",
      "Ladakh                                              18          4        14         0\n",
      "Madhya Pradesh                                    1485       1284       127        74\n",
      "Maharashtra                                       4203       3473       507       223\n",
      "Manipur                                              2          0         2         0\n",
      "Meghalaya                                           11         10         0         1\n",
      "Mizoram                                              1          1         0         0\n",
      "Nagaland                                             0          0         0         0\n",
      "Odisha                                              68         43        24         1\n",
      "Puducherry                                           7          4         3         0\n",
      "Punjab                                             219        172        31        16\n",
      "Rajasthan                                         1478       1281       183        14\n",
      "Tamil Nadu                                        1477       1051       411        15\n",
      "Telengana                                          873        662       190        21\n",
      "Tripura                                              2          1         1         0\n",
      "Uttarakhand                                         44         33        11         0\n",
      "Uttar Pradesh                                     1176       1030       129        17\n",
      "West Bengal                                        339        261        66        12\n",
      "Total number of confirmed cases in India         17656      14255      2842       559\n",
      "\n",
      " *Our figures are being reconciled with ICMR\n"
     ]
    }
   ],
   "source": [
    "extract_contents = lambda row: [x.text.replace('\\n', '') for x in row] \n",
    "#Names of the headers in the output data table \n",
    "Titles= ['States','Confirmed*','Active*','Cured*','Death*'] \n",
    "Link = 'https://www.mohfw.gov.in/'\n",
    "data_stats=[]\n",
    "response = requests.get(Link).content \n",
    "soup = BeautifulSoup(response, 'html.parser') \n",
    "\n",
    "all_rows = soup.find_all('tr') \n",
    "\n",
    "for row in all_rows: \n",
    "    stat = extract_contents(row.find_all('td')) \n",
    "    if stat:\n",
    "        stat=[*stat] \n",
    "        data_stats.append(stat)\n",
    "\n",
    "data_stats[-2].insert(0,\"    \")\n",
    "str=data_stats[-1][0]\n",
    "data_stats.remove(data_stats[-1])\n",
    "\n",
    "for i in range(len(data_stats)):\n",
    "    data_stats[i].pop(0)\n",
    "    if i==len(data_stats)-1:\n",
    "        data_stats[i][1]=data_stats[i][1].replace(\"*\",\"\")\n",
    "        data_stats[i].insert(2,int(data_stats[i][1])-int(data_stats[i][2])-int(data_stats[i][3]))\n",
    "        break\n",
    "    active=int(data_stats[i][1])-int(data_stats[i][2])-int(data_stats[i][3])\n",
    "    data_stats[i].insert(2,active)\n",
    " \n",
    "data = tabulate(data_stats, headers=Titles) \n",
    "print(data) \n",
    "print(\"\\n\",str)"
   ]
  },
  {
   "cell_type": "code",
   "execution_count": null,
   "metadata": {},
   "outputs": [],
   "source": []
  }
 ],
 "metadata": {
  "kernelspec": {
   "display_name": "Python 3",
   "language": "python",
   "name": "python3"
  },
  "language_info": {
   "codemirror_mode": {
    "name": "ipython",
    "version": 3
   },
   "file_extension": ".py",
   "mimetype": "text/x-python",
   "name": "python",
   "nbconvert_exporter": "python",
   "pygments_lexer": "ipython3",
   "version": "3.7.6"
  }
 },
 "nbformat": 4,
 "nbformat_minor": 4
}
