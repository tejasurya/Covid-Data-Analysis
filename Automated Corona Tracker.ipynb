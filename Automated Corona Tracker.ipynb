{
 "cells": [
  {
   "cell_type": "code",
   "execution_count": 3,
   "metadata": {},
   "outputs": [],
   "source": [
    "import os\n",
    "import numpy as np\n",
    "import matplotlib.pyplot as plot\n",
    "from tabulate import tabulate\n",
    "import requests\n",
    "from bs4 import BeautifulSoup"
   ]
  },
  {
   "cell_type": "code",
   "execution_count": 22,
   "metadata": {},
   "outputs": [
    {
     "name": "stdout",
     "output_type": "stream",
     "text": [
      "States                                      Confirmed*    Active*    Cured*    Death*\n",
      "----------------------------------------  ------------  ---------  --------  --------\n",
      "Andaman and Nicobar Islands                         33         22        11         0\n",
      "Andhra Pradesh                                    1183        917       235        31\n",
      "Arunachal Pradesh                                    1          0         1         0\n",
      "Assam                                               36          8        27         1\n",
      "Bihar                                              345        286        57         2\n",
      "Chandigarh                                          40         23        17         0\n",
      "Chhattisgarh                                        37          5        32         0\n",
      "Delhi                                             3108       2177       877        54\n",
      "Goa                                                  7          0         7         0\n",
      "Gujarat                                           3548       2992       394       162\n",
      "Haryana                                            296        110       183         3\n",
      "Himachal Pradesh                                    40         17        22         1\n",
      "Jammu and Kashmir                                  546        375       164         7\n",
      "Jharkhand                                           82         66        13         3\n",
      "Karnataka                                          512        299       193        20\n",
      "Kerala                                             481        122       355         4\n",
      "Ladakh                                              20          6        14         0\n",
      "Madhya Pradesh                                    2168       1756       302       110\n",
      "Maharashtra                                       8590       6939      1282       369\n",
      "Manipur                                              2          0         2         0\n",
      "Meghalaya                                           12         11         0         1\n",
      "Mizoram                                              1          1         0         0\n",
      "Odisha                                             118         80        37         1\n",
      "Puducherry                                           8          5         3         0\n",
      "Punjab                                             313        224        71        18\n",
      "Rajasthan                                         2262       1547       669        46\n",
      "Tamil Nadu                                        1937        812      1101        24\n",
      "Telengana                                         1004        657       321        26\n",
      "Tripura                                              2          0         2         0\n",
      "Uttarakhand                                         51         18        33         0\n",
      "Uttar Pradesh                                     1955       1589       335        31\n",
      "West Bengal                                        697        568       109        20\n",
      "Total number of confirmed cases in India         29435       6869     21632       934\n",
      "\n",
      " *Our figures are being reconciled with ICMR\n",
      "\n",
      " *States wise distribution is subject to further verification and reconciliation\n"
     ]
    }
   ],
   "source": [
    "extract_contents = lambda row: [x.text.replace('\\n', '') for x in row] \n",
    "Titles= ['States','Confirmed*','Active*','Cured*','Death*'] \n",
    "\n",
    "Link = 'https://www.mohfw.gov.in/'\n",
    "response = requests.get(Link).content \n",
    "soup = BeautifulSoup(response, 'html.parser') \n",
    "header = extract_contents(soup.tr.find_all('th'))\n",
    "\n",
    "stats = [] \n",
    "all_rows = soup.find_all('tr') \n",
    "\n",
    "for row in all_rows: \n",
    "    stat = extract_contents(row.find_all('td')) \n",
    "    if stat:\n",
    "        stat=[*stat] \n",
    "        stats.append(stat)\n",
    "\n",
    "#stats[-3].insert(0,\"    \")\n",
    "st=stats[-1][0]\n",
    "st1=stats[-2][0]\n",
    "stats.remove(stats[-2])\n",
    "stats.remove(stats[-1])\n",
    "#print(stats)\n",
    "\n",
    "for i in range(len(stats)):\n",
    "    if stats:\n",
    "        if i==len(stats)-1:\n",
    "            stats[i][1]=stats[i][1].replace(\"*\",\"\")\n",
    "            stats[i].insert(3,int(stats[i][1])-int(stats[i][2])-int(stats[i][3]))\n",
    "            break\n",
    "        active=int(stats[i][2])-int(stats[i][3])-int(stats[i][4])\n",
    "        stats[i].insert(3,active)\n",
    "        stats[i].pop(0)\n",
    " \n",
    "data = tabulate(stats, headers=Titles) \n",
    "print(data) \n",
    "print(\"\\n\",st)\n",
    "print(\"\\n\",st1)"
   ]
  }
 ],
 "metadata": {
  "kernelspec": {
   "display_name": "Python 3",
   "language": "python",
   "name": "python3"
  },
  "language_info": {
   "codemirror_mode": {
    "name": "ipython",
    "version": 3
   },
   "file_extension": ".py",
   "mimetype": "text/x-python",
   "name": "python",
   "nbconvert_exporter": "python",
   "pygments_lexer": "ipython3",
   "version": "3.7.6"
  }
 },
 "nbformat": 4,
 "nbformat_minor": 4
}
